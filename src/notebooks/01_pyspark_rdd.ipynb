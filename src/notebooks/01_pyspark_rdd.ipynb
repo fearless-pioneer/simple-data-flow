{
 "cells": [
  {
   "cell_type": "markdown",
   "id": "5a9b93dc-97d4-4296-8fc5-2ea73100187f",
   "metadata": {
    "tags": []
   },
   "source": [
    "# Check MinIO"
   ]
  },
  {
   "cell_type": "code",
   "execution_count": 1,
   "id": "e6927363-ac1c-4de1-ac26-c21b5225d8b6",
   "metadata": {},
   "outputs": [
    {
     "name": "stdout",
     "output_type": "stream",
     "text": [
      "\u001b[33mWARNING: The directory '/home/jovyan/.cache/pip' or its parent directory is not owned or is not writable by the current user. The cache has been disabled. Check the permissions and owner of that directory. If executing pip with sudo, you should use sudo's -H flag.\u001b[0m\u001b[33m\n",
      "\u001b[0mCollecting minio\n",
      "  Downloading minio-7.1.16-py3-none-any.whl (77 kB)\n",
      "\u001b[2K     \u001b[90m━━━━━━━━━━━━━━━━━━━━━━━━━━━━━━━━━━━━━━━━\u001b[0m \u001b[32m77.9/77.9 kB\u001b[0m \u001b[31m15.8 MB/s\u001b[0m eta \u001b[36m0:00:00\u001b[0m\n",
      "\u001b[?25hCollecting delta-spark==2.2.0\n",
      "  Downloading delta_spark-2.2.0-py3-none-any.whl (20 kB)\n",
      "Requirement already satisfied: importlib-metadata>=1.0.0 in /opt/conda/lib/python3.8/site-packages (from delta-spark==2.2.0) (4.11.4)\n",
      "Collecting pyspark<3.4.0,>=3.3.0\n",
      "  Downloading pyspark-3.3.3.tar.gz (281.4 MB)\n",
      "\u001b[2K     \u001b[90m━━━━━━━━━━━━━━━━━━━━━━━━━━━━━━━━━━━━━━\u001b[0m \u001b[32m281.4/281.4 MB\u001b[0m \u001b[31m37.8 MB/s\u001b[0m eta \u001b[36m0:00:00\u001b[0m00:01\u001b[0m00:01\u001b[0m\n",
      "\u001b[?25h  Preparing metadata (setup.py) ... \u001b[?25ldone\n",
      "\u001b[?25hRequirement already satisfied: urllib3 in /opt/conda/lib/python3.8/site-packages (from minio) (1.26.11)\n",
      "Requirement already satisfied: certifi in /opt/conda/lib/python3.8/site-packages (from minio) (2022.9.24)\n",
      "Requirement already satisfied: zipp>=0.5 in /opt/conda/lib/python3.8/site-packages (from importlib-metadata>=1.0.0->delta-spark==2.2.0) (3.9.0)\n",
      "Collecting py4j==0.10.9.5\n",
      "  Downloading py4j-0.10.9.5-py2.py3-none-any.whl (199 kB)\n",
      "\u001b[2K     \u001b[90m━━━━━━━━━━━━━━━━━━━━━━━━━━━━━━━━━━━━━━\u001b[0m \u001b[32m199.7/199.7 kB\u001b[0m \u001b[31m43.3 MB/s\u001b[0m eta \u001b[36m0:00:00\u001b[0m\n",
      "\u001b[?25hBuilding wheels for collected packages: pyspark\n",
      "  Building wheel for pyspark (setup.py) ... \u001b[?25ldone\n",
      "\u001b[?25h  Created wheel for pyspark: filename=pyspark-3.3.3-py2.py3-none-any.whl size=281891025 sha256=54c52038e330745cacf5962880791dfeb41de84f494507f579f0c591b3ef54f9\n",
      "  Stored in directory: /tmp/pip-ephem-wheel-cache-8c8ezik1/wheels/51/75/36/395b13e23ff711aa0816b5fbbc4ab6d66ad587aaa096c7ea8a\n",
      "Successfully built pyspark\n",
      "Installing collected packages: py4j, pyspark, minio, delta-spark\n",
      "  Attempting uninstall: py4j\n",
      "    Found existing installation: py4j 0.10.9.7\n",
      "    Uninstalling py4j-0.10.9.7:\n",
      "      Successfully uninstalled py4j-0.10.9.7\n",
      "Successfully installed delta-spark-2.2.0 minio-7.1.16 py4j-0.10.9.5 pyspark-3.3.3\n",
      "\u001b[33mWARNING: Running pip as the 'root' user can result in broken permissions and conflicting behaviour with the system package manager. It is recommended to use a virtual environment instead: https://pip.pypa.io/warnings/venv\u001b[0m\u001b[33m\n",
      "\u001b[0m"
     ]
    }
   ],
   "source": [
    "!pip install minio delta-spark==2.2.0"
   ]
  },
  {
   "cell_type": "code",
   "execution_count": 2,
   "id": "f7b81beb-3b7e-4001-a6a8-962312dff812",
   "metadata": {},
   "outputs": [],
   "source": [
    "from minio import Minio"
   ]
  },
  {
   "cell_type": "code",
   "execution_count": 3,
   "id": "c59a8874-f0e7-4c62-a393-4eef43aa00b2",
   "metadata": {},
   "outputs": [
    {
     "name": "stdout",
     "output_type": "stream",
     "text": [
      "warehouse exists\n"
     ]
    }
   ],
   "source": [
    "client = Minio(\n",
    "    \"minio:9000\",\n",
    "    access_key=\"minio\",\n",
    "    secret_key=\"minio123\",\n",
    "    secure=False\n",
    ")\n",
    "\n",
    "bucket = \"warehouse\"\n",
    "if client.bucket_exists(bucket):\n",
    "    print(f\"{bucket} exists\")\n"
   ]
  },
  {
   "cell_type": "code",
   "execution_count": null,
   "id": "30647709-5bc4-496b-9af4-9194bc605be8",
   "metadata": {},
   "outputs": [],
   "source": []
  },
  {
   "cell_type": "markdown",
   "id": "022f6925-7844-4d82-8ba8-eae463234478",
   "metadata": {},
   "source": [
    "# Init SparkContext"
   ]
  },
  {
   "cell_type": "code",
   "execution_count": 4,
   "id": "b623fc16-76c2-44e7-9a41-7dfeff53c830",
   "metadata": {},
   "outputs": [],
   "source": [
    "from datetime import datetime\n",
    "from pyspark import SparkContext\n",
    "from pyspark.sql import SparkSession, SQLContext"
   ]
  },
  {
   "cell_type": "code",
   "execution_count": 5,
   "id": "fe1f1d7c-28a3-4655-8fac-90027844d537",
   "metadata": {},
   "outputs": [],
   "source": [
    "import pyspark\n",
    "from delta import *\n",
    "\n",
    "builder = pyspark.sql.SparkSession.builder.appName(\"LocalDelta\") \\\n",
    "    .master(\"spark://spark-master:7077\") \\\n",
    "    .config(\"spark.sql.extensions\", \"io.delta.sql.DeltaSparkSessionExtension\") \\\n",
    "    .config(\"spark.sql.catalog.spark_catalog\", \"org.apache.spark.sql.delta.catalog.DeltaCatalog\")\n",
    "\n",
    "spark = configure_spark_with_delta_pip(builder).getOrCreate()"
   ]
  },
  {
   "cell_type": "code",
   "execution_count": 6,
   "id": "f14869d2-772c-4120-a37d-cd4d21790016",
   "metadata": {},
   "outputs": [
    {
     "data": {
      "text/html": [
       "\n",
       "        <div>\n",
       "            <p><b>SparkContext</b></p>\n",
       "\n",
       "            <p><a href=\"http://3fd049f0696c:4040\">Spark UI</a></p>\n",
       "\n",
       "            <dl>\n",
       "              <dt>Version</dt>\n",
       "                <dd><code>v3.3.3</code></dd>\n",
       "              <dt>Master</dt>\n",
       "                <dd><code>spark://spark-master:7077</code></dd>\n",
       "              <dt>AppName</dt>\n",
       "                <dd><code>LocalDelta</code></dd>\n",
       "            </dl>\n",
       "        </div>\n",
       "        "
      ],
      "text/plain": [
       "<SparkContext master=spark://spark-master:7077 appName=LocalDelta>"
      ]
     },
     "execution_count": 6,
     "metadata": {},
     "output_type": "execute_result"
    }
   ],
   "source": [
    "sc = spark.sparkContext\n",
    "sc"
   ]
  },
  {
   "cell_type": "code",
   "execution_count": 7,
   "id": "d70ca7bb-0817-46a9-8e2e-927444f69193",
   "metadata": {
    "scrolled": true,
    "tags": []
   },
   "outputs": [],
   "source": [
    "# test Delta Lake\n",
    "spark.range(500).write.format(\"delta\").save(\"s3a://warehouse/deltafile\", mode=\"overwrite\")"
   ]
  },
  {
   "cell_type": "code",
   "execution_count": null,
   "id": "d712aebf-b563-4ef6-be81-423b43064146",
   "metadata": {},
   "outputs": [],
   "source": []
  },
  {
   "cell_type": "markdown",
   "id": "d22f7a00-4276-41ca-bc68-3a187e74bd0a",
   "metadata": {},
   "source": [
    "# Create RDDs"
   ]
  },
  {
   "cell_type": "markdown",
   "id": "95203fef-0e9c-4455-b54d-8d2c814ca58a",
   "metadata": {},
   "source": [
    "## By loading dataset"
   ]
  },
  {
   "cell_type": "code",
   "execution_count": null,
   "id": "3d050ebd-42ce-4dcc-ab67-f831a11bbea6",
   "metadata": {},
   "outputs": [],
   "source": [
    "fdd = sc.textFile(\"s3a://warehouse/testfile.txt\")\n",
    "fdd"
   ]
  },
  {
   "cell_type": "code",
   "execution_count": null,
   "id": "a1388580-df3b-43a4-b1a1-5bdcd6b05c39",
   "metadata": {
    "collapsed": true,
    "jupyter": {
     "outputs_hidden": true
    },
    "tags": []
   },
   "outputs": [],
   "source": [
    "fdd.getNumPartitions()"
   ]
  },
  {
   "cell_type": "code",
   "execution_count": null,
   "id": "f55d7bcd-3eb1-41ec-ac7d-b847f46b6b33",
   "metadata": {},
   "outputs": [],
   "source": [
    "fdd.count()"
   ]
  },
  {
   "cell_type": "code",
   "execution_count": null,
   "id": "01f76cce-bee4-42f3-8e7a-b77aab2ba977",
   "metadata": {},
   "outputs": [],
   "source": [
    "fdd = fdd.repartition(10)\n",
    "fdd.getNumPartitions()"
   ]
  },
  {
   "cell_type": "code",
   "execution_count": null,
   "id": "f278e1c3-1ed8-4430-ab4a-6414d7aa806a",
   "metadata": {},
   "outputs": [],
   "source": [
    "fdd.count()"
   ]
  },
  {
   "cell_type": "code",
   "execution_count": null,
   "id": "046bf7c6-9295-4ffa-8470-42ea20401ba0",
   "metadata": {},
   "outputs": [],
   "source": [
    "fdd.collect()"
   ]
  },
  {
   "cell_type": "code",
   "execution_count": null,
   "id": "be543565-e381-4956-b8fa-f7a73a2b11c5",
   "metadata": {
    "scrolled": true,
    "tags": []
   },
   "outputs": [],
   "source": [
    "# split lines into words\n",
    "words = fdd.flatMap(lambda line: line.split())\n",
    "\n",
    "# count the occurrences of each word\n",
    "word_counts = words.map(lambda word: (word, 1)).reduceByKey(lambda a, b: a + b)\n",
    "word_counts.collect()"
   ]
  },
  {
   "cell_type": "code",
   "execution_count": null,
   "id": "763ceea7-df4f-4891-b2a0-68622195a3df",
   "metadata": {
    "scrolled": true,
    "tags": []
   },
   "outputs": [],
   "source": [
    "# filter and split lines into words\n",
    "words_2 = fdd.filter(lambda x: \"There are\" in x).flatMap(lambda line: line.split())\n",
    "\n",
    "# count the occurrences of each word\n",
    "word_counts_2 = words_2.map(lambda word: (word, 1)).reduceByKey(lambda a, b: a + b)\n",
    "word_counts_2.collect()"
   ]
  },
  {
   "cell_type": "code",
   "execution_count": null,
   "id": "f2ee3168-f77c-4051-a690-a70e6297156a",
   "metadata": {},
   "outputs": [],
   "source": [
    "word_counts.join(word_counts_2).collect()"
   ]
  },
  {
   "cell_type": "code",
   "execution_count": null,
   "id": "341d8782-e026-4d2f-b087-d7edd44bb320",
   "metadata": {},
   "outputs": [],
   "source": [
    "# create two RDDs with key-value pairs\n",
    "rdd1 = sc.parallelize([(1, \"hello\"), (2, \"world\"), (3, \"foo\")], 1)\n",
    "rdd2 = sc.parallelize([(1, \"bar\"), (2, \"baz\"), (4, \"qux\")], 1)\n",
    "\n",
    "# perform a join on the two RDDs\n",
    "rdd_joined = rdd1.join(rdd2)\n",
    "\n",
    "# print the result\n",
    "rdd_joined.collect()"
   ]
  },
  {
   "cell_type": "code",
   "execution_count": null,
   "id": "6b28d6e6",
   "metadata": {},
   "outputs": [],
   "source": []
  },
  {
   "cell_type": "markdown",
   "id": "fdd92620-5109-4638-bd75-c5024c876e80",
   "metadata": {},
   "source": [
    "## By using parallelize"
   ]
  },
  {
   "cell_type": "code",
   "execution_count": null,
   "id": "418feb28-01db-4938-ac5e-ac5a1f3701a4",
   "metadata": {},
   "outputs": [],
   "source": [
    "data = [1, 2, 3, 3]\n",
    "rdd = sc.parallelize(data, 2)\n",
    "rdd"
   ]
  },
  {
   "cell_type": "code",
   "execution_count": null,
   "id": "7c599e2d-f444-41f5-914f-161137d29df1",
   "metadata": {},
   "outputs": [],
   "source": [
    "rdd.getNumPartitions()"
   ]
  },
  {
   "cell_type": "code",
   "execution_count": null,
   "id": "18f35b74-dbdf-48bc-a133-d7f01a56faba",
   "metadata": {},
   "outputs": [],
   "source": [
    "rdd.collect()"
   ]
  },
  {
   "cell_type": "code",
   "execution_count": null,
   "id": "36953fb4-ef09-4048-a9e8-480823660021",
   "metadata": {},
   "outputs": [],
   "source": []
  },
  {
   "cell_type": "markdown",
   "id": "a4dd391e-67fa-4897-82f2-c1fe96972965",
   "metadata": {},
   "source": [
    "# RDD operations"
   ]
  },
  {
   "cell_type": "markdown",
   "id": "11b08956-5ac2-4780-a27a-a045c2b6dcba",
   "metadata": {},
   "source": [
    "## Transformation"
   ]
  },
  {
   "cell_type": "markdown",
   "id": "dabfecbc-4236-46bb-b35c-04a359ef7868",
   "metadata": {},
   "source": [
    "* Element-wise transformations\n",
    "* Transformation filter(): Takes in a function and returns an RDD that only has elements that pass the filter( ) function"
   ]
  },
  {
   "cell_type": "code",
   "execution_count": null,
   "id": "2effc006-b519-4f76-b133-b24da8b211e7",
   "metadata": {},
   "outputs": [],
   "source": [
    "rdd.filter(lambda x: x != 1).collect()"
   ]
  },
  {
   "cell_type": "code",
   "execution_count": null,
   "id": "07f013b2-09ce-46b2-8df4-0cbf74522c60",
   "metadata": {},
   "outputs": [],
   "source": []
  },
  {
   "cell_type": "markdown",
   "id": "fe96a89c-6be9-4519-9431-e15bbf3f37d3",
   "metadata": {},
   "source": [
    "* Element-wise transformations\n",
    "* Transformation map(): Takes in a function and applies it to each element  in the RDD with the result of the function being the new value of each element in the resulting RDD"
   ]
  },
  {
   "cell_type": "code",
   "execution_count": null,
   "id": "95e6cd78-6bed-4a4b-be13-1a80a03ef487",
   "metadata": {},
   "outputs": [],
   "source": [
    "rdd.map(lambda x: x + 1).collect()"
   ]
  },
  {
   "cell_type": "code",
   "execution_count": null,
   "id": "bc435dfc-048c-4c54-93d2-bcce8d346de3",
   "metadata": {},
   "outputs": [],
   "source": [
    "rdd.map(lambda x: [x, x + 5]).collect()"
   ]
  },
  {
   "cell_type": "code",
   "execution_count": null,
   "id": "d32232dd-a773-4cf1-ba82-34ba386c7de3",
   "metadata": {},
   "outputs": [],
   "source": []
  },
  {
   "cell_type": "code",
   "execution_count": null,
   "id": "9d93cf4d-357f-41f6-9ee3-9f9f81b76d9a",
   "metadata": {},
   "outputs": [],
   "source": [
    "rdd.flatMap(lambda x: [x, x + 5]).collect()"
   ]
  },
  {
   "cell_type": "code",
   "execution_count": null,
   "id": "8ddbe681-ea40-43a6-942c-5fc708a7fd4e",
   "metadata": {},
   "outputs": [],
   "source": []
  },
  {
   "cell_type": "markdown",
   "id": "2b07dc56-37cb-4df3-aec2-21c670db5305",
   "metadata": {},
   "source": [
    "* Sampling Transformation\n",
    "* sample() an RDD: We can specify with or without replacement, or the fraction"
   ]
  },
  {
   "cell_type": "code",
   "execution_count": null,
   "id": "f7addb9d-2aaa-4a24-9cba-a8cf7f78764f",
   "metadata": {},
   "outputs": [],
   "source": [
    "rdd.sample(False, 0.5).collect()"
   ]
  },
  {
   "cell_type": "code",
   "execution_count": null,
   "id": "0e4d9806-674d-432a-97f7-3838550c84d3",
   "metadata": {},
   "outputs": [],
   "source": []
  },
  {
   "cell_type": "markdown",
   "id": "be251a9f-4d17-462b-9dea-a381096c052e",
   "metadata": {},
   "source": [
    "* Pseudo Set Operations\n",
    "* RDDs support many operations of mathematical sets: \n",
    "* distinct, union, intersect, subtract\n",
    "* All expensive except union because they involve shuffling"
   ]
  },
  {
   "cell_type": "code",
   "execution_count": null,
   "id": "a30729ff-8f58-434d-8fdd-c611d14007eb",
   "metadata": {},
   "outputs": [],
   "source": [
    "rdd = sc.parallelize([1, 2, 3])\n",
    "other = sc.parallelize([3, 4, 5])"
   ]
  },
  {
   "cell_type": "code",
   "execution_count": null,
   "id": "52eacd86-c0a1-4671-b9d3-db42ca081a75",
   "metadata": {},
   "outputs": [],
   "source": [
    "rdd.union(other).collect()"
   ]
  },
  {
   "cell_type": "code",
   "execution_count": null,
   "id": "015cb3cd-8b6d-4e2f-94bf-d4f49e8af82c",
   "metadata": {},
   "outputs": [],
   "source": [
    "rdd.intersection(other).collect()"
   ]
  },
  {
   "cell_type": "code",
   "execution_count": null,
   "id": "a9fed8a0-b16f-432e-8f8c-3fe48a130e9a",
   "metadata": {},
   "outputs": [],
   "source": [
    "rdd.subtract(other).collect()"
   ]
  },
  {
   "cell_type": "code",
   "execution_count": null,
   "id": "16a8dcb7-01a8-4ac6-bc4d-c8fad0fcec0a",
   "metadata": {},
   "outputs": [],
   "source": [
    "rdd.cartesian(other).collect()"
   ]
  },
  {
   "cell_type": "code",
   "execution_count": null,
   "id": "7becf7a8-97b6-4be7-b54b-4d87020f688a",
   "metadata": {},
   "outputs": [],
   "source": []
  },
  {
   "cell_type": "markdown",
   "id": "b1a063c5-f2de-4314-8436-6277469e174b",
   "metadata": {},
   "source": [
    "## Actions"
   ]
  },
  {
   "cell_type": "markdown",
   "id": "54d0d64c-f438-457d-ba98-89857ee1e322",
   "metadata": {},
   "source": [
    "* fold( )\n",
    "* takes a function similarly as reduce( ) does, but takes a “zero value” to be used for initial call on each partition\n",
    "* should be the identity element for the operation\n",
    "* 0 for +, 1 for *, etc.\n",
    "* return type the same as RDD elements \n"
   ]
  },
  {
   "cell_type": "code",
   "execution_count": null,
   "id": "727c2d6f-59b9-4b31-94d9-fc1bde4ec577",
   "metadata": {},
   "outputs": [],
   "source": [
    "rdd = sc.parallelize([1, 2, 3, 3])\n",
    "rdd.fold(0, lambda a, b: a + b)"
   ]
  },
  {
   "cell_type": "code",
   "execution_count": null,
   "id": "945ee762-d70a-4eb3-bab8-44216e11ea24",
   "metadata": {},
   "outputs": [],
   "source": []
  },
  {
   "cell_type": "markdown",
   "id": "59fcf25d-3de0-4f77-8580-b9fb973d60aa",
   "metadata": {},
   "source": [
    "* reduce( )\n",
    "* takes a function that operates on two elements of the type in the RDD and returns a new element of the same type\n",
    "* should be commutative and associative so that it can be computed correctly in parallel"
   ]
  },
  {
   "cell_type": "code",
   "execution_count": null,
   "id": "d8c89529-e855-4369-b9ce-ef768b3c7fb1",
   "metadata": {},
   "outputs": [],
   "source": [
    "rdd.reduce(lambda a, b: a + b)"
   ]
  },
  {
   "cell_type": "code",
   "execution_count": null,
   "id": "ef86ea95-3d81-4e4c-9067-4f490bcd1b2a",
   "metadata": {},
   "outputs": [],
   "source": []
  },
  {
   "cell_type": "markdown",
   "id": "1149a308-13a8-4658-9440-908d46931f2b",
   "metadata": {},
   "source": [
    "aggregate( )\n",
    "* we can also supply an initial zero value of the type we want to return\n",
    "* a 1st function to combine the elements from RDD with the accumulator\n",
    "* a 2nd function to merge two accumulators given that each node accumulates its own results locally"
   ]
  },
  {
   "cell_type": "code",
   "execution_count": null,
   "id": "2cac185a-d8e7-4ad2-be35-4cdb129258c0",
   "metadata": {},
   "outputs": [],
   "source": [
    "seq_op = (lambda acc, value: (acc[0] + value, acc[1] + 1))\n",
    "comb_op = (lambda acc1, acc2: (acc1[0] + acc2[0], acc1[1] + acc2[1]))\n",
    "\n",
    "sumCount = rdd.aggregate((0, 0), seq_op, comb_op)\n",
    "sumCount[0], sumCount[1], sumCount[0]/float(sumCount[1])"
   ]
  },
  {
   "cell_type": "code",
   "execution_count": null,
   "id": "49234f7c-37ea-48ec-aa81-d60d2177a300",
   "metadata": {},
   "outputs": [],
   "source": []
  },
  {
   "cell_type": "markdown",
   "id": "5773c6d6-b4e4-48b6-abf9-91b336f87b6d",
   "metadata": {},
   "source": [
    "collect( )\n",
    "* return the entire RDD’s contents to the driver program\n",
    "\n",
    "take( )\n",
    "* returns n elements from the RDD\n",
    "* attempts to minimize the number of partitions it accesses, so may be biased\n",
    "\n",
    "top(n)\n",
    "* return the top n elements of the RDD\n",
    "\n",
    "count( )\n",
    "* returns the number of elements in the RDD"
   ]
  },
  {
   "cell_type": "code",
   "execution_count": null,
   "id": "0988a06a-fef8-444b-a001-a8e2636b56af",
   "metadata": {},
   "outputs": [],
   "source": [
    "rdd.collect()"
   ]
  },
  {
   "cell_type": "code",
   "execution_count": null,
   "id": "bb125dbc-3d55-4d27-89c1-a7a7c085502c",
   "metadata": {},
   "outputs": [],
   "source": [
    "rdd.take(2)"
   ]
  },
  {
   "cell_type": "code",
   "execution_count": null,
   "id": "d9d905b2-4c65-47da-a5b4-c09b1f3a1b9c",
   "metadata": {},
   "outputs": [],
   "source": [
    "rdd.takeOrdered(2, key=lambda x: -x)"
   ]
  },
  {
   "cell_type": "code",
   "execution_count": null,
   "id": "965c9eaf-bc0a-4d1b-9ee3-ae0f89c8ce70",
   "metadata": {},
   "outputs": [],
   "source": [
    "rdd.takeSample(False, 1)"
   ]
  },
  {
   "cell_type": "code",
   "execution_count": null,
   "id": "20c266d1-f441-40f8-90d7-37d8f2945103",
   "metadata": {},
   "outputs": [],
   "source": [
    "rdd.top(2)"
   ]
  },
  {
   "cell_type": "code",
   "execution_count": null,
   "id": "89d30a44-b22d-4766-8b47-7430a535612a",
   "metadata": {},
   "outputs": [],
   "source": [
    "rdd.count()"
   ]
  },
  {
   "cell_type": "code",
   "execution_count": null,
   "id": "fbfb0ccc-c548-49dc-ab54-0cb1814bcd92",
   "metadata": {},
   "outputs": [],
   "source": [
    "rdd.countByValue()"
   ]
  },
  {
   "cell_type": "code",
   "execution_count": null,
   "id": "3ffbd4ce-6581-4181-8561-ed4a0f54d8cd",
   "metadata": {},
   "outputs": [],
   "source": []
  },
  {
   "cell_type": "markdown",
   "id": "ddf5853e-cb48-421a-b0c4-64dd43326ab5",
   "metadata": {},
   "source": [
    "# Caching RDDs"
   ]
  },
  {
   "cell_type": "code",
   "execution_count": null,
   "id": "eae1b67b-fecf-4f33-8695-5ff6b1cc05e3",
   "metadata": {},
   "outputs": [],
   "source": [
    "lines = sc.textFile(\"s3a://warehouse/testfile.txt\", 4)\n",
    "lines"
   ]
  },
  {
   "cell_type": "markdown",
   "id": "bef4dcc7-a863-4519-ad34-5b56495f5d51",
   "metadata": {},
   "source": [
    "Count will cause Spark to\n",
    "* read data\n",
    "* sum within partitions\n",
    "* combine sums in driver"
   ]
  },
  {
   "cell_type": "code",
   "execution_count": null,
   "id": "a15be3b0-4d5f-4112-8ad8-4806adc3131e",
   "metadata": {},
   "outputs": [],
   "source": [
    "lines.count()"
   ]
  },
  {
   "cell_type": "code",
   "execution_count": null,
   "id": "e8e18b72-5b8d-49d2-844d-112dd4c52c89",
   "metadata": {},
   "outputs": [],
   "source": [
    "paragraphs = lines.filter(lambda x: len(x) > 0)\n",
    "paragraphs"
   ]
  },
  {
   "cell_type": "markdown",
   "id": "8e3a3736-e247-4ecf-b11f-5d5a0e3c2c86",
   "metadata": {},
   "source": [
    "Count will cause Spark to\n",
    "* read data (again)\n",
    "* sum within partitions\n",
    "* combine sums in driver"
   ]
  },
  {
   "cell_type": "code",
   "execution_count": null,
   "id": "4438d781-fa50-4c4e-a76c-6aa60b97bc44",
   "metadata": {},
   "outputs": [],
   "source": [
    "paragraphs.count()"
   ]
  },
  {
   "cell_type": "code",
   "execution_count": null,
   "id": "f495f6da-7f82-48a8-8f70-fbf95529ee65",
   "metadata": {},
   "outputs": [],
   "source": []
  },
  {
   "cell_type": "code",
   "execution_count": null,
   "id": "a8991b9f-6977-4e0f-833f-f664aae8a804",
   "metadata": {},
   "outputs": [],
   "source": [
    "lines = sc.textFile(\"s3a://warehouse/testfile.txt\", 4)\n",
    "\n",
    "# save, don't compute\n",
    "lines.cache()"
   ]
  },
  {
   "cell_type": "code",
   "execution_count": null,
   "id": "4b5ea976-cfa5-4910-a64b-d456de60cb9c",
   "metadata": {},
   "outputs": [],
   "source": [
    "paragraphs = lines.filter(lambda x: len(x) > 0)\n",
    "print(lines.count())"
   ]
  },
  {
   "cell_type": "code",
   "execution_count": null,
   "id": "113daf04-623f-4734-b2ce-43771a42e090",
   "metadata": {},
   "outputs": [],
   "source": [
    "print(paragraphs.count())"
   ]
  },
  {
   "cell_type": "code",
   "execution_count": null,
   "id": "ce8016e9-f1b5-41a4-a8be-bc78410854c0",
   "metadata": {},
   "outputs": [],
   "source": [
    "# remove from cache\n",
    "lines.unpersist()"
   ]
  },
  {
   "cell_type": "code",
   "execution_count": null,
   "id": "4d7737f1-d42b-4fed-b048-5c1715031bd8",
   "metadata": {},
   "outputs": [],
   "source": []
  }
 ],
 "metadata": {
  "kernelspec": {
   "display_name": "Python 3 (ipykernel)",
   "language": "python",
   "name": "python3"
  },
  "language_info": {
   "codemirror_mode": {
    "name": "ipython",
    "version": 3
   },
   "file_extension": ".py",
   "mimetype": "text/x-python",
   "name": "python",
   "nbconvert_exporter": "python",
   "pygments_lexer": "ipython3",
   "version": "3.8.13"
  }
 },
 "nbformat": 4,
 "nbformat_minor": 5
}
